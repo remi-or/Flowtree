{
 "cells": [
  {
   "cell_type": "code",
   "execution_count": 2,
   "metadata": {},
   "outputs": [],
   "source": [
    "from time import perf_counter\n",
    "import numpy as np"
   ]
  },
  {
   "cell_type": "code",
   "execution_count": 5,
   "metadata": {},
   "outputs": [
    {
     "name": "stdout",
     "output_type": "stream",
     "text": [
      "iters:\t5000\n",
      "size:\t64\n",
      "sum:\t0.005127098818775266\n",
      "mean:\t1.0254197637550532e-06\n",
      "std:\t2.7187860000104386e-06\n"
     ]
    }
   ],
   "source": [
    "iters = 5000\n",
    "size = 64\n",
    "\n",
    "times = []\n",
    "for _ in range(iters):\n",
    "    boolean_array = np.random.randint(0, 2, size=(size,)) == 1\n",
    "    t0 = perf_counter()\n",
    "    bytes(boolean_array)\n",
    "    t1 = perf_counter()\n",
    "    times.append(t1 - t0)\n",
    "\n",
    "print(f\"iters:\\t{iters}\")\n",
    "print(f\"size:\\t{size}\")\n",
    "print(f\"sum:\\t{np.sum(times)}\")\n",
    "print(f\"mean:\\t{np.mean(times)}\")\n",
    "print(f\"std:\\t{np.std(times)}\")"
   ]
  },
  {
   "cell_type": "code",
   "execution_count": 6,
   "metadata": {},
   "outputs": [
    {
     "data": {
      "text/plain": [
       "b'\\x01\\x01\\x00\\x00\\x01\\x00\\x00\\x01\\x01\\x00\\x00\\x00\\x00\\x00\\x00\\x00\\x01\\x01\\x00\\x00\\x01\\x00\\x01\\x01\\x00\\x01\\x00\\x01\\x00\\x01\\x01\\x01\\x00\\x00\\x00\\x01\\x00\\x01\\x00\\x01\\x01\\x00\\x00\\x01\\x00\\x01\\x01\\x01\\x01\\x01\\x00\\x01\\x00\\x00\\x00\\x00\\x00\\x00\\x00\\x00\\x00\\x01\\x00\\x01'"
      ]
     },
     "execution_count": 6,
     "metadata": {},
     "output_type": "execute_result"
    }
   ],
   "source": [
    "signature = bytes(boolean_array)\n",
    "signature"
   ]
  },
  {
   "cell_type": "code",
   "execution_count": null,
   "metadata": {},
   "outputs": [],
   "source": []
  }
 ],
 "metadata": {
  "kernelspec": {
   "display_name": "OptimalTransport",
   "language": "python",
   "name": "python3"
  },
  "language_info": {
   "codemirror_mode": {
    "name": "ipython",
    "version": 3
   },
   "file_extension": ".py",
   "mimetype": "text/x-python",
   "name": "python",
   "nbconvert_exporter": "python",
   "pygments_lexer": "ipython3",
   "version": "3.10.8 | packaged by conda-forge | (main, Nov  4 2022, 13:42:51) [MSC v.1916 64 bit (AMD64)]"
  },
  "orig_nbformat": 4,
  "vscode": {
   "interpreter": {
    "hash": "c2e7e9faff70a0978344dc34005ab73410bcd910d919732445c66ac86f32f5cc"
   }
  }
 },
 "nbformat": 4,
 "nbformat_minor": 2
}
