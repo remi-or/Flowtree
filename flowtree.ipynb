{
 "cells": [
  {
   "cell_type": "code",
   "execution_count": 1,
   "metadata": {},
   "outputs": [
    {
     "name": "stderr",
     "output_type": "stream",
     "text": [
      "c:\\Users\\meri2\\anaconda3\\envs\\OptimalTransport\\lib\\site-packages\\tqdm\\auto.py:22: TqdmWarning: IProgress not found. Please update jupyter and ipywidgets. See https://ipywidgets.readthedocs.io/en/stable/user_install.html\n",
      "  from .autonotebook import tqdm as notebook_tqdm\n"
     ]
    },
    {
     "name": "stdout",
     "output_type": "stream",
     "text": [
      "Normalizing distribution's mass from 1.9816718406831755 to 1\n",
      "Normalizing distribution's mass from 1.7247674871644616 to 1\n"
     ]
    }
   ],
   "source": [
    "import numpy as np\n",
    "import treeswift\n",
    "from flowtreeV2 import Quadtree, Distribution, compute_marginals\n",
    "\n",
    "d = 2\n",
    "N = 16\n",
    "s = 4\n",
    "\n",
    "points = np.random.normal(size=(N, d)) \n",
    "quadtree = Quadtree(points)\n",
    "mu = Distribution.uniform_distribution(N, s)\n",
    "nu = Distribution.uniform_distribution(N, s)"
   ]
  },
  {
   "cell_type": "code",
   "execution_count": 2,
   "metadata": {},
   "outputs": [],
   "source": [
    "Quad = Quadtree(points)"
   ]
  },
  {
   "cell_type": "code",
   "execution_count": 3,
   "metadata": {},
   "outputs": [
    {
     "name": "stdout",
     "output_type": "stream",
     "text": [
      "Opening new node with demand\n",
      "[{12: 0.11221091338413827}, {0: 0.3341116281511367}]\n",
      "Transcation found: 0.112 [12, 0]\n",
      "Opening new node with demand\n",
      "[{9: 0.39373493288449923, 13: 0.46200970618708076}, {0: 0.22190071476699844, 6: 0.45790889765502873}]\n",
      "Transcation found: 0.222 [9, 0]\n",
      "Opening new node with demand\n",
      "[{9: 0.1718342181175008, 13: 0.46200970618708076}, {6: 0.45790889765502873}]\n",
      "Transcation found: 0.172 [9, 6]\n",
      "Opening new node with demand\n",
      "[{13: 0.46200970618708076}, {6: 0.28607467953752796}]\n",
      "Transcation found: 0.286 [13, 6]\n",
      "Opening new node with demand\n",
      "[{2: 0.03204444754428172}, {15: 0.06438538467233235}]\n",
      "Transcation found: 0.032 [2, 15]\n",
      "Opening new node with demand\n",
      "[{13: 0.1759350266495528}, {15: 0.032340937128050626, 7: 0.1435940895215023}]\n",
      "Transcation found: 0.032 [13, 15]\n",
      "Opening new node with demand\n",
      "[{13: 0.14359408952150216}, {7: 0.1435940895215023}]\n",
      "Transcation found: 0.144 [13, 7]\n"
     ]
    },
    {
     "data": {
      "text/plain": [
       "{(12, 0): 0.11221091338413827,\n",
       " (9, 0): 0.22190071476699844,\n",
       " (9, 6): 0.1718342181175008,\n",
       " (13, 6): 0.28607467953752796,\n",
       " (2, 15): 0.03204444754428172,\n",
       " (13, 15): 0.032340937128050626,\n",
       " (13, 7): 0.14359408952150216}"
      ]
     },
     "execution_count": 3,
     "metadata": {},
     "output_type": "execute_result"
    }
   ],
   "source": [
    "OF = Quad.compute_optimal_flow(mu, nu)\n",
    "OF"
   ]
  },
  {
   "cell_type": "code",
   "execution_count": 5,
   "metadata": {},
   "outputs": [
    {
     "name": "stdout",
     "output_type": "stream",
     "text": [
      "{12: 0.11221091338413827, 9: 0.39373493288449923, 13: 0.46200970618708076, 2: 0.03204444754428172}\n",
      "{9: 0.39373493288449923, 2: 0.03204444754428172, 12: 0.11221091338413827, 13: 0.46200970618708076}\n",
      "\n",
      "{0: 0.3341116281511367, 6: 0.45790889765502873, 15: 0.06438538467233235, 7: 0.14359408952150216}\n",
      "{15: 0.06438538467233235, 0: 0.3341116281511367, 6: 0.45790889765502873, 7: 0.1435940895215023}\n"
     ]
    }
   ],
   "source": [
    "print(compute_marginals(OF)[0])\n",
    "print(mu.core)\n",
    "print()\n",
    "print(compute_marginals(OF)[1])\n",
    "print(nu.core)"
   ]
  },
  {
   "cell_type": "code",
   "execution_count": null,
   "metadata": {},
   "outputs": [],
   "source": []
  }
 ],
 "metadata": {
  "kernelspec": {
   "display_name": "OptimalTransport",
   "language": "python",
   "name": "python3"
  },
  "language_info": {
   "codemirror_mode": {
    "name": "ipython",
    "version": 3
   },
   "file_extension": ".py",
   "mimetype": "text/x-python",
   "name": "python",
   "nbconvert_exporter": "python",
   "pygments_lexer": "ipython3",
   "version": "3.10.8"
  },
  "orig_nbformat": 4,
  "vscode": {
   "interpreter": {
    "hash": "c2e7e9faff70a0978344dc34005ab73410bcd910d919732445c66ac86f32f5cc"
   }
  }
 },
 "nbformat": 4,
 "nbformat_minor": 2
}
