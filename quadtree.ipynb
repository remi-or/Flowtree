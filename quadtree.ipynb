{
 "cells": [
  {
   "cell_type": "code",
   "execution_count": 1,
   "metadata": {},
   "outputs": [
    {
     "name": "stderr",
     "output_type": "stream",
     "text": [
      "c:\\Users\\meri2\\anaconda3\\envs\\OptimalTransport\\lib\\site-packages\\tqdm\\auto.py:22: TqdmWarning: IProgress not found. Please update jupyter and ipywidgets. See https://ipywidgets.readthedocs.io/en/stable/user_install.html\n",
      "  from .autonotebook import tqdm as notebook_tqdm\n"
     ]
    },
    {
     "name": "stdout",
     "output_type": "stream",
     "text": [
      "Normalizing distribution's mass from 1.790162537072419 to 1\n",
      "Normalizing distribution's mass from 2.7773390393441915 to 1\n"
     ]
    }
   ],
   "source": [
    "import numpy as np\n",
    "import treeswift\n",
    "from flowtree import Quadtree, Distribution, QuadNode, QuadLeaf\n",
    "\n",
    "d = 2\n",
    "N = 16\n",
    "s = 4\n",
    "\n",
    "points = np.random.normal(size=(N, d)) \n",
    "quadtree = Quadtree(points)\n",
    "mu = Distribution.uniform_distribution(N, s)\n",
    "nu = Distribution.uniform_distribution(N, s)"
   ]
  },
  {
   "cell_type": "code",
   "execution_count": 2,
   "metadata": {},
   "outputs": [],
   "source": [
    "from typing import Dict, Tuple, Union\n",
    "from treeswift import Tree\n",
    "from copy import deepcopy\n",
    "from collections import defaultdict\n",
    "from numpy import ndarray as Array\n",
    "\n",
    "EPS = 1e-12\n",
    "\n",
    "def compute_optimal_flow(\n",
    "    qt: Quadtree, \n",
    "    mu: Distribution, \n",
    "    nu: Distribution,\n",
    ") -> Dict[Tuple[int, int], float]:\n",
    "    compute_flow_tree(qt, mu, nu)\n",
    "    optimal_flow = resolve_dtree(qt)\n",
    "    return optimal_flow\n",
    "\n",
    "def compute_flow_tree(\n",
    "    qt: Quadtree, \n",
    "    mu: Distribution, \n",
    "    nu: Distribution,\n",
    ") -> None:\n",
    "    for leaf in qt.traverse_leaves():\n",
    "        i = leaf.label\n",
    "        if i in mu:\n",
    "            leaf.demand[0][i] = mu(i)\n",
    "        if i in nu:\n",
    "            leaf.demand[1][i] = nu(i)\n",
    "\n",
    "def find_transaction(demand) -> Tuple:\n",
    "    am0, m0 = -1, 2\n",
    "    for i, amount in demand[0].items():\n",
    "        if amount < m0:\n",
    "            am0, m0 = i, amount\n",
    "    am1, m1 = -1, 2\n",
    "    for i, amount in demand[1].items():\n",
    "        if amount < m1:\n",
    "            am1, m1 = i, amount\n",
    "    return (min(m0, m1), am0, am1)\n",
    "\n",
    "def resolve_demand(\n",
    "    of: Dict[Tuple[int, int], float],\n",
    "    node: Union[QuadLeaf, QuadNode],\n",
    ") -> Dict[Tuple[int, int], float]:\n",
    "    print('Opening new node with demand\\n', node.demand)\n",
    "    if node.demand[0] and node.demand[1]:\n",
    "        amount, i, j = find_transaction(node.demand)\n",
    "        print('Transcation found:', amount, i, j)\n",
    "        node.demand[0][i] -= amount\n",
    "        if node.demand[0][i] < EPS:\n",
    "            node.demand[0].pop(i)\n",
    "        node.demand[1][j] -= amount\n",
    "        if node.demand[1][j] < EPS:\n",
    "            node.demand[1].pop(j)\n",
    "        of[(i, j)] += amount\n",
    "        return resolve_demand(of, node)\n",
    "    else:\n",
    "        for i, amount in node.demand[0].items():\n",
    "            if i in node.parent.demand[0]:\n",
    "                node.parent.demand[0][i] += amount\n",
    "            else:\n",
    "                node.parent.demand[0][i] = amount\n",
    "        for j, amount in node.demand[1].items():\n",
    "            if j in node.parent.demand[1]:\n",
    "                node.parent.demand[1][j] += amount\n",
    "            else:\n",
    "                node.parent.demand[1][j] = amount\n",
    "        return of\n",
    "\n",
    "def resolve_dtree(\n",
    "    dtree: Quadtree, # dtree = demand tree\n",
    ") -> Dict[Tuple[int, int], float]:\n",
    "    of: Dict[Tuple[int, int], float] = defaultdict(lambda : 0) # optimal flow\n",
    "    for node in dtree.traverse_postorder():\n",
    "        of = resolve_demand(of, node)\n",
    "    return of"
   ]
  },
  {
   "cell_type": "code",
   "execution_count": 3,
   "metadata": {},
   "outputs": [
    {
     "name": "stdout",
     "output_type": "stream",
     "text": [
      "Opening new node with demand\n",
      " ({}, {0: 0.36004598382753605})\n",
      "Opening new node with demand\n",
      " ({}, {})\n",
      "Opening new node with demand\n",
      " ({}, {0: 0.36004598382753605})\n",
      "Opening new node with demand\n",
      " ({3: 0.3261998299426699}, {})\n",
      "Opening new node with demand\n",
      " ({}, {6: 0.30477345706114845})\n",
      "Opening new node with demand\n",
      " ({}, {})\n",
      "Opening new node with demand\n",
      " ({}, {6: 0.30477345706114845})\n",
      "Opening new node with demand\n",
      " ({11: 0.37849961466465515}, {})\n",
      "Opening new node with demand\n",
      " ({3: 0.3261998299426699, 11: 0.37849961466465515}, {0: 0.36004598382753605, 6: 0.30477345706114845})\n",
      "Transcation found: 0.30477345706114845 3 6\n",
      "Opening new node with demand\n",
      " ({3: 0.021426372881521438, 11: 0.37849961466465515}, {0: 0.36004598382753605})\n",
      "Transcation found: 0.021426372881521438 3 0\n",
      "Opening new node with demand\n",
      " ({11: 0.37849961466465515}, {0: 0.3386196109460146})\n",
      "Transcation found: 0.3386196109460146 11 0\n",
      "Opening new node with demand\n",
      " ({11: 0.03988000371864053}, {})\n",
      "Opening new node with demand\n",
      " ({}, {1: 0.18616949745251807})\n",
      "Opening new node with demand\n",
      " ({}, {4: 0.14901106165879735})\n",
      "Opening new node with demand\n",
      " ({}, {1: 0.18616949745251807, 4: 0.14901106165879735})\n",
      "Opening new node with demand\n",
      " ({}, {})\n",
      "Opening new node with demand\n",
      " ({}, {1: 0.18616949745251807, 4: 0.14901106165879735})\n",
      "Opening new node with demand\n",
      " ({}, {})\n",
      "Opening new node with demand\n",
      " ({8: 0.01021637063086835}, {})\n",
      "Opening new node with demand\n",
      " ({}, {})\n",
      "Opening new node with demand\n",
      " ({8: 0.01021637063086835}, {})\n",
      "Opening new node with demand\n",
      " ({8: 0.01021637063086835}, {})\n",
      "Opening new node with demand\n",
      " ({5: 0.28508418476180664}, {})\n",
      "Opening new node with demand\n",
      " ({}, {})\n",
      "Opening new node with demand\n",
      " ({}, {})\n",
      "Opening new node with demand\n",
      " ({5: 0.28508418476180664}, {})\n",
      "Opening new node with demand\n",
      " ({}, {})\n",
      "Opening new node with demand\n",
      " ({5: 0.28508418476180664}, {})\n",
      "Opening new node with demand\n",
      " ({11: 0.03988000371864053, 8: 0.01021637063086835, 5: 0.28508418476180664}, {1: 0.18616949745251807, 4: 0.14901106165879735})\n",
      "Transcation found: 0.01021637063086835 8 4\n",
      "Opening new node with demand\n",
      " ({11: 0.03988000371864053, 5: 0.28508418476180664}, {1: 0.18616949745251807, 4: 0.138794691027929})\n",
      "Transcation found: 0.03988000371864053 11 4\n",
      "Opening new node with demand\n",
      " ({5: 0.28508418476180664}, {1: 0.18616949745251807, 4: 0.09891468730928846})\n",
      "Transcation found: 0.09891468730928846 5 4\n",
      "Opening new node with demand\n",
      " ({5: 0.18616949745251818}, {1: 0.18616949745251807})\n",
      "Transcation found: 0.18616949745251807 5 1\n",
      "Opening new node with demand\n",
      " ({}, {})\n",
      "Opening new node with demand\n",
      " ({}, {})\n"
     ]
    },
    {
     "data": {
      "text/plain": [
       "defaultdict(<function __main__.resolve_dtree.<locals>.<lambda>()>,\n",
       "            {(3, 6): 0.30477345706114845,\n",
       "             (3, 0): 0.021426372881521438,\n",
       "             (11, 0): 0.3386196109460146,\n",
       "             (8, 4): 0.01021637063086835,\n",
       "             (11, 4): 0.03988000371864053,\n",
       "             (5, 4): 0.09891468730928846,\n",
       "             (5, 1): 0.18616949745251807})"
      ]
     },
     "execution_count": 3,
     "metadata": {},
     "output_type": "execute_result"
    }
   ],
   "source": [
    "compute_optimal_flow(quadtree, mu, nu)"
   ]
  },
  {
   "cell_type": "code",
   "execution_count": null,
   "metadata": {},
   "outputs": [],
   "source": []
  },
  {
   "cell_type": "code",
   "execution_count": null,
   "metadata": {},
   "outputs": [],
   "source": []
  }
 ],
 "metadata": {
  "kernelspec": {
   "display_name": "OptimalTransport",
   "language": "python",
   "name": "python3"
  },
  "language_info": {
   "codemirror_mode": {
    "name": "ipython",
    "version": 3
   },
   "file_extension": ".py",
   "mimetype": "text/x-python",
   "name": "python",
   "nbconvert_exporter": "python",
   "pygments_lexer": "ipython3",
   "version": "3.10.8 | packaged by conda-forge | (main, Nov  4 2022, 13:42:51) [MSC v.1916 64 bit (AMD64)]"
  },
  "orig_nbformat": 4,
  "vscode": {
   "interpreter": {
    "hash": "c2e7e9faff70a0978344dc34005ab73410bcd910d919732445c66ac86f32f5cc"
   }
  }
 },
 "nbformat": 4,
 "nbformat_minor": 2
}
